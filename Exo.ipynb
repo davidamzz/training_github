{
 "cells": [
  {
   "cell_type": "markdown",
   "metadata": {},
   "source": [
    "Create a password"
   ]
  },
  {
   "cell_type": "code",
   "execution_count": 1,
   "metadata": {},
   "outputs": [],
   "source": [
    "password = \"Alexandra\""
   ]
  },
  {
   "cell_type": "code",
   "execution_count": 6,
   "metadata": {},
   "outputs": [
    {
     "name": "stdout",
     "output_type": "stream",
     "text": [
      "Wrong password\n",
      "Wrong password\n",
      "Wrong password\n",
      "You have the right password!\n"
     ]
    }
   ],
   "source": [
    "a = input(\"What is the password?\") # asking to the user, will attribute value to                                             variable\n",
    "while a != password:\n",
    "    print(\"Wrong password\")\n",
    "    a = input(\"What is the password?\")\n",
    "\n",
    "print(\"You have the right password!\")\n"
   ]
  },
  {
   "cell_type": "markdown",
   "metadata": {},
   "source": [
    "Manipulate Data Types"
   ]
  },
  {
   "cell_type": "code",
   "execution_count": 40,
   "metadata": {},
   "outputs": [
    {
     "name": "stdout",
     "output_type": "stream",
     "text": [
      "Hello\n",
      "I\n",
      "Michel\n",
      "am\n"
     ]
    }
   ],
   "source": [
    "michel = [\"Hello\", \"I\", \"Michel\", \"am\"]\n",
    "\n",
    "for i in michel:\n",
    "    print(i)"
   ]
  },
  {
   "cell_type": "code",
   "execution_count": 41,
   "metadata": {},
   "outputs": [],
   "source": [
    "michel.pop(2)\n",
    "michel.append(\"Michel\")"
   ]
  },
  {
   "cell_type": "code",
   "execution_count": 42,
   "metadata": {},
   "outputs": [
    {
     "name": "stdout",
     "output_type": "stream",
     "text": [
      "Hello\n",
      "I\n",
      "am\n",
      "Michel\n"
     ]
    }
   ],
   "source": [
    "for i in michel:\n",
    "    print(i)"
   ]
  },
  {
   "cell_type": "code",
   "execution_count": 17,
   "metadata": {},
   "outputs": [],
   "source": [
    "age = [12, 16, 34, 58, 9]"
   ]
  },
  {
   "cell_type": "code",
   "execution_count": 18,
   "metadata": {},
   "outputs": [],
   "source": [
    "age.sort()"
   ]
  },
  {
   "cell_type": "code",
   "execution_count": 19,
   "metadata": {},
   "outputs": [
    {
     "data": {
      "text/plain": [
       "[9, 12, 16, 34, 58]"
      ]
     },
     "execution_count": 19,
     "metadata": {},
     "output_type": "execute_result"
    }
   ],
   "source": [
    "age"
   ]
  },
  {
   "cell_type": "code",
   "execution_count": 61,
   "metadata": {},
   "outputs": [],
   "source": [
    "import requests\n",
    "request = requests.get(\"https://swapi.dev/api/people/5/\")\n",
    "dic = request.json()\n"
   ]
  },
  {
   "cell_type": "code",
   "execution_count": 62,
   "metadata": {},
   "outputs": [
    {
     "data": {
      "text/plain": [
       "{'name': 'Leia Organa',\n",
       " 'height': '150',\n",
       " 'mass': '49',\n",
       " 'hair_color': 'brown',\n",
       " 'skin_color': 'light',\n",
       " 'eye_color': 'brown',\n",
       " 'birth_year': '19BBY',\n",
       " 'gender': 'female',\n",
       " 'homeworld': 'https://swapi.dev/api/planets/2/',\n",
       " 'films': ['https://swapi.dev/api/films/1/',\n",
       "  'https://swapi.dev/api/films/2/',\n",
       "  'https://swapi.dev/api/films/3/',\n",
       "  'https://swapi.dev/api/films/6/'],\n",
       " 'species': [],\n",
       " 'vehicles': ['https://swapi.dev/api/vehicles/30/'],\n",
       " 'starships': [],\n",
       " 'created': '2014-12-10T15:20:09.791000Z',\n",
       " 'edited': '2014-12-20T21:17:50.315000Z',\n",
       " 'url': 'https://swapi.dev/api/people/5/'}"
      ]
     },
     "execution_count": 62,
     "metadata": {},
     "output_type": "execute_result"
    }
   ],
   "source": [
    "dic"
   ]
  },
  {
   "cell_type": "code",
   "execution_count": 63,
   "metadata": {},
   "outputs": [
    {
     "name": "stdout",
     "output_type": "stream",
     "text": [
      "name\n",
      "height\n",
      "mass\n",
      "hair_color\n",
      "skin_color\n",
      "eye_color\n",
      "birth_year\n",
      "gender\n",
      "homeworld\n",
      "films\n",
      "species\n",
      "vehicles\n",
      "starships\n",
      "created\n",
      "edited\n",
      "url\n"
     ]
    }
   ],
   "source": [
    "for element in dic:\n",
    "    print(element)"
   ]
  },
  {
   "cell_type": "code",
   "execution_count": 65,
   "metadata": {},
   "outputs": [
    {
     "name": "stdout",
     "output_type": "stream",
     "text": [
      "Leia Organa is 150 cm tall and weighs 49 kg. She was born in 1995\n"
     ]
    }
   ],
   "source": [
    "dic['birth_year']='1995'\n",
    "\n",
    "print(\"{name} is {height} cm tall and weighs {mass} kg. She was born in {birth_year}\".format(**dic))"
   ]
  },
  {
   "cell_type": "code",
   "execution_count": 82,
   "metadata": {},
   "outputs": [
    {
     "name": "stdout",
     "output_type": "stream",
     "text": [
      "On average, users travelled 35.42857142857143 km to get to work.\n"
     ]
    }
   ],
   "source": [
    "kilometres_travelled = [50, 10, 100, 25, 1000, 21, 12,30]\n",
    "kilometres_travelled.pop(4)\n",
    "\n",
    "total_km = 0\n",
    "total_users = 0\n",
    "\n",
    "for km in kilometres_travelled:\n",
    "    total_km += km # additionning all items and put into a variable\n",
    "    total_users += 1 # same\n",
    "\n",
    "average_km = total_km/total_users\n",
    "print(\"On average, users travelled {} km to get to work.\".format(average_km))\n",
    "\n"
   ]
  },
  {
   "cell_type": "markdown",
   "metadata": {},
   "source": [
    "Create Functions"
   ]
  },
  {
   "cell_type": "code",
   "execution_count": 104,
   "metadata": {},
   "outputs": [
    {
     "name": "stdout",
     "output_type": "stream",
     "text": [
      "The sqrt of 25 is 5.0\n"
     ]
    }
   ],
   "source": [
    "import math\n",
    "\n",
    "def tool (number):\n",
    "    return math.sqrt(number)\n",
    "\n",
    "number = 25\n",
    "\n",
    "result = tool(number)\n",
    "\n",
    "print(\"The sqrt of {} is {}\".format(number,result))"
   ]
  },
  {
   "cell_type": "markdown",
   "metadata": {},
   "source": [
    "OPTIONAL - Calculate interest"
   ]
  },
  {
   "cell_type": "code",
   "execution_count": null,
   "metadata": {},
   "outputs": [
    {
     "name": "stdout",
     "output_type": "stream",
     "text": [
      "total amount to place:1000.0\n",
      "number of year to invest:10\n",
      "rate of interest:0.1\n",
      "total amount available in 10 years: 2000.0\n"
     ]
    }
   ],
   "source": [
    "\n",
    "amount = float(input('total amount to place'))\n",
    "years = int(input('number of year to invest'))\n",
    "rate = float(input('rate of interest? in decimals'))\n",
    "\n",
    "total = amount*(1+rate)**(years)\n",
    "\n",
    "print('total amount to place:{}'.format(amount))\n",
    "print('number of year to invest:{}'.format(years))\n",
    "print('rate of interest:{}'.format(rate))\n",
    "print('total amount available in {} years: {}'.format(years,result))\n",
    "    "
   ]
  },
  {
   "cell_type": "code",
   "execution_count": null,
   "metadata": {},
   "outputs": [],
   "source": [
    "while True:\n",
    "    try:\n",
    "        amount = float(input('total amount to place'))\n",
    "        years = int(input('number of year to invest'))\n",
    "        rate = float(input('rate of interest? in decimals'))\n",
    "    except ValueError:\n",
    "        print(\"Erreur: Veuillez entrer des valeurs valides\")\n",
    "    else:\n",
    "        if (amount <0) or (years < 0) or (rate < 0):\n",
    "            print(\"You have entered one or more negative values. Please type only positive values !\")\n",
    "        if rate > 1:\n",
    "            print(\"You have entered an interest rate greater than 100%. Please enter an interest rate as a decimal value !\")\n",
    "\n",
    "        result = interests_calculation(amount,years,rate)\n"
   ]
  },
  {
   "cell_type": "markdown",
   "metadata": {},
   "source": [
    "Build a quiz 🎤"
   ]
  },
  {
   "cell_type": "code",
   "execution_count": 26,
   "metadata": {},
   "outputs": [
    {
     "name": "stdout",
     "output_type": "stream",
     "text": [
      "Wlecome to the Quizz, you have 3 lives\n",
      "\n",
      "1. Quel joueur détient le record du plus grand nombre de buts marqués en Coupe du Monde ? Cristiano Ronaldo, Messi, Klose, Pelé\n",
      "Your answer: Klose\n",
      "Well done! You have 3 chances left\n",
      "2. Dans quel pays a eu lieu la première Coupe du Monde de Football en 1930 ? Brésil, Uruguay, Artgentine, Italie\n",
      "Your answer: Davud\n",
      "Too bad! that is not the correct answer\n",
      "You have 2 chances left\n",
      "Your answer: Uruguay\n",
      "Well done! You have 2 chances left\n",
      "3. Quel club a remporté la Ligue des Champions de l'UEFA le plus grand nombre de fois ? Real Madrid, Bayern Munich, Barcelona, AC Milan\n",
      "Too bad! That is not the correct answer.\n",
      "You have 1 chances left\n",
      "Your answer: Real Madrid\n",
      "Well done! You have 1 chances left\n",
      "4. Quel joueur a remporté le plus de Ballons d'Or ? Messi, Ronaldo, Zidane, Platini\n",
      "Well done! You have 1 chances left\n",
      "Congratulations, you completed the quiz!\n"
     ]
    }
   ],
   "source": [
    "solution1 = 'Klose'\n",
    "solution2 = 'Uruguay'\n",
    "solution3 = 'Real Madrid'\n",
    "solution4 = 'Messi'\n",
    "\n",
    "lives = 3\n",
    "\n",
    "print('Wlecome to the Quizz, you have 3 lives')\n",
    "print()\n",
    "\n",
    "print('1. Quel joueur détient le record du plus grand nombre de buts marqués en Coupe du Monde ? Cristiano Ronaldo, Messi, Klose, Pelé')\n",
    "réponse1 = input(\"1. Quel joueur détient le record du plus grand nombre de buts marqués en Coupe du Monde ? Cristiano Ronaldo, Messi, Klose, Pelé\")\n",
    "print('Your answer: {}'.format(réponse1))\n",
    "while réponse1 != solution1 and lives > 0:\n",
    "    lives -= 1\n",
    "    print('Too bad! that is not the correct answer')\n",
    "    print('You have {} chances left'.format(lives))\n",
    "    if lives == 0:\n",
    "        print('You lost')\n",
    "        break\n",
    "    réponse1 = input(\"1. Quel joueur détient le record du plus grand nombre de buts marqués en Coupe du Monde ? Cristiano Ronaldo, Messi, Klose, Pelé\")\n",
    "    print('Your answer: {}'.format(réponse1))\n",
    "    \n",
    "if réponse1 == solution1 and lives > 0:\n",
    "    print('Well done! You have {} chances left'.format(lives))\n",
    "\n",
    "\n",
    "if lives > 0:\n",
    "    print(\"2. Dans quel pays a eu lieu la première Coupe du Monde de Football en 1930 ? Brésil, Uruguay, Artgentine, Italie\")\n",
    "    réponse2 = input(\"2. Dans quel pays a eu lieu la première Coupe du Monde de Football en 1930 ? Brésil, Uruguay, Artgentine, Italie\")\n",
    "    print('Your answer: {}'.format(réponse2))\n",
    "    while réponse2 != solution2 and lives > 0:\n",
    "        lives -= 1\n",
    "        print('Too bad! that is not the correct answer')\n",
    "        print('You have {} chances left'.format(lives))\n",
    "        if lives == 0:\n",
    "            print('You lost')\n",
    "            break\n",
    "        réponse2 = input(\"2. Dans quel pays a eu lieu la première Coupe du Monde de Football en 1930 ? Brésil, Uruguay, Artgentine, Italie\")\n",
    "        print('Your answer: {}'.format(réponse2))\n",
    "\n",
    "if réponse2 == solution2 and lives > 0:\n",
    "    print('Well done! You have {} chances left'.format(lives))\n",
    "    \n",
    "    \n",
    "if lives > 0:\n",
    "    print(\"3. Quel club a remporté la Ligue des Champions de l'UEFA le plus grand nombre de fois ? Real Madrid, Bayern Munich, Barcelona, AC Milan\")\n",
    "    réponse3 = input(\"3. Quel club a remporté la Ligue des Champions de l'UEFA le plus grand nombre de fois ? Real Madrid, Bayern Munich, Barcelona, AC Milan\")\n",
    "    while réponse3 != solution3 and lives > 0:\n",
    "        lives -= 1\n",
    "        print('Too bad! That is not the correct answer.')\n",
    "        print('You have {} chances left'.format(lives))\n",
    "        if lives == 0:\n",
    "            print('You lost')\n",
    "            break\n",
    "        réponse3 = input(\"3. Quel club a remporté la Ligue des Champions de l'UEFA le plus grand nombre de fois ? Real Madrid, Bayern Munich, Barcelona, AC Milan\")\n",
    "        print('Your answer: {}'.format(réponse3))\n",
    "\n",
    "    if réponse3 == solution3 and lives > 0:\n",
    "        print('Well done! You have {} chances left'.format(lives))\n",
    "\n",
    "if lives > 0:\n",
    "    print(\"4. Quel joueur a remporté le plus de Ballons d'Or ? Messi, Ronaldo, Zidane, Platini\")\n",
    "    réponse4 = input(\"4. Quel joueur a remporté le plus de Ballons d'Or ? Messi, Ronaldo, Zidane, Platini\")\n",
    "    while réponse4 != solution4 and lives > 0:\n",
    "        lives -= 1\n",
    "        print('Too bad! That is not the correct answer.')\n",
    "        print('You have {} chances left'.format(lives))\n",
    "        if lives == 0:\n",
    "            print('You lost')\n",
    "            break\n",
    "        réponse4 = input(\"4. Quel joueur a remporté le plus de Ballons d'Or ? Messi, Ronaldo, Zidane, Platini\")\n",
    "        print('Your answer: {}'.format(réponse4))\n",
    "\n",
    "    if réponse4 == solution4 and lives > 0:\n",
    "        print('Well done! You have {} chances left'.format(lives))\n",
    "\n",
    "if lives > 0:\n",
    "    print('Congratulations, you completed the quiz!')\n",
    "else:\n",
    "    print('Game over!')\n",
    "\n",
    "\n",
    "    \n",
    "    \n",
    "    "
   ]
  },
  {
   "cell_type": "code",
   "execution_count": null,
   "metadata": {},
   "outputs": [],
   "source": []
  }
 ],
 "metadata": {
  "kernelspec": {
   "display_name": "base",
   "language": "python",
   "name": "python3"
  },
  "language_info": {
   "codemirror_mode": {
    "name": "ipython",
    "version": 3
   },
   "file_extension": ".py",
   "mimetype": "text/x-python",
   "name": "python",
   "nbconvert_exporter": "python",
   "pygments_lexer": "ipython3",
   "version": "3.12.7"
  }
 },
 "nbformat": 4,
 "nbformat_minor": 2
}
